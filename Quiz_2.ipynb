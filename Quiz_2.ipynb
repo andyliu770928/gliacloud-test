{
 "cells": [
  {
   "cell_type": "code",
   "execution_count": 68,
   "metadata": {},
   "outputs": [],
   "source": [
    "import numpy as np"
   ]
  },
  {
   "cell_type": "code",
   "execution_count": 53,
   "metadata": {},
   "outputs": [
    {
     "name": "stdout",
     "output_type": "stream",
     "text": [
      "(2480, 0)\n"
     ]
    }
   ],
   "source": [
    "def ngram_probs(wordlist=['we', 'are'],filename='raw_sentences.txt'):\n",
    "    bigram_probs, trigram_probs = 0, 0\n",
    "    wordstr = \"\"\n",
    "    with open(filename,'r') as file:\n",
    "        content_text = file.read()\n",
    "    lower_text = content_text.lower()\n",
    "    text = lower_text.replace('\\n', '')\n",
    "\n",
    "    if len(wordlist) == 2:\n",
    "        wordstr = wordlist[0]+\" \"+wordlist[1]\n",
    "        bigram_probs = text.count(wordstr)\n",
    "    else:\n",
    "        wordstr = wordlist[0]+\" \"+wordlist[1]+\" \"+wordlist[2]\n",
    "        trigram_probs = text.count(wordstr)\n",
    "    \n",
    "    \n",
    "    return bigram_probs, trigram_probs\n",
    "\n",
    "cnt2 = ngram_probs([\"we\",\"are\"])\n",
    "print(cnt2)"
   ]
  },
  {
   "cell_type": "code",
   "execution_count": 54,
   "metadata": {},
   "outputs": [
    {
     "data": {
      "text/plain": [
       "(2480, 0)"
      ]
     },
     "execution_count": 54,
     "metadata": {},
     "output_type": "execute_result"
    }
   ],
   "source": [
    "ngram_probs([\"we\",\"are\"])"
   ]
  },
  {
   "cell_type": "code",
   "execution_count": 69,
   "metadata": {},
   "outputs": [],
   "source": [
    "# cnt2 = ngram_probs([\"we\",\"are\"])\n",
    "# cnt3 = ngram_probs([\"we\",\"are\", \"family\"])\n",
    "def prob3(bigram=[\"we\",\"are\"], cnt2=cnt2, cnt3=cnt3):\n",
    "    cnt2 = ngram_probs([\"we\",\"are\"])\n",
    "    cnt3 = ngram_probs([\"we\",\"are\", \"family\"])\n",
    "    probs = cnt3[1]/cnt2[0]\n",
    "    log_probs = np.log(probs)\n",
    "    return log_probs\n",
    "\n",
    "prob3()\n"
   ]
  },
  {
   "cell_type": "code",
   "execution_count": 72,
   "metadata": {},
   "outputs": [],
   "source": [
    "with open('raw_sentences.txt','r') as file:\n",
    "        content_text = file.read()"
   ]
  },
  {
   "cell_type": "code",
   "execution_count": 77,
   "metadata": {},
   "outputs": [],
   "source": [
    "def nextword(target, source):\n",
    "    for i, w in enumerate(source):\n",
    "        if w == target:\n",
    "            return source[i+1]\n",
    "        \n",
    "a = nextword(\"we are \", content_text)"
   ]
  },
  {
   "cell_type": "code",
   "execution_count": null,
   "metadata": {},
   "outputs": [],
   "source": []
  }
 ],
 "metadata": {
  "kernelspec": {
   "display_name": "Python 3",
   "language": "python",
   "name": "python3"
  },
  "language_info": {
   "codemirror_mode": {
    "name": "ipython",
    "version": 3
   },
   "file_extension": ".py",
   "mimetype": "text/x-python",
   "name": "python",
   "nbconvert_exporter": "python",
   "pygments_lexer": "ipython3",
   "version": "3.6.4"
  }
 },
 "nbformat": 4,
 "nbformat_minor": 2
}
